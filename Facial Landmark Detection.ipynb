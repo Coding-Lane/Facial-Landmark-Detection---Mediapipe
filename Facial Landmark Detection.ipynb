{
 "cells": [
  {
   "cell_type": "code",
   "execution_count": 5,
   "id": "eab23fc7",
   "metadata": {},
   "outputs": [],
   "source": [
    "import cv2\n",
    "import mediapipe as mp"
   ]
  },
  {
   "cell_type": "code",
   "execution_count": 6,
   "id": "2dbb05b9",
   "metadata": {},
   "outputs": [],
   "source": [
    "mp_drawing = mp.solutions.drawing_utils\n",
    "mp_drawing_styles = mp.solutions.drawing_styles\n",
    "\n",
    "my_drawing_specs = mp_drawing.DrawingSpec(color = (0, 255, 0), thickness = 1)"
   ]
  },
  {
   "cell_type": "code",
   "execution_count": 7,
   "id": "d3cc7778",
   "metadata": {},
   "outputs": [],
   "source": [
    "cap = cv2.VideoCapture(1)\n",
    "\n",
    "mp_face_mesh = mp.solutions.face_mesh\n",
    "\n",
    "with mp_face_mesh.FaceMesh(\n",
    "        max_num_faces = 1,\n",
    "        refine_landmarks = True,\n",
    "        min_detection_confidence = 0.5,\n",
    "        min_tracking_confidence = 0.5\n",
    "    ) as face_mesh:\n",
    "    \n",
    "\n",
    "    while cap.isOpened():\n",
    "        success, image = cap.read()\n",
    "        if not success:\n",
    "            break\n",
    "            \n",
    "            \n",
    "        results = face_mesh.process(image)\n",
    "        \n",
    "        for face_landmarks in results.multi_face_landmarks:\n",
    "            mp_drawing.draw_landmarks(\n",
    "                image = image,\n",
    "                landmark_list = face_landmarks,\n",
    "                connections = mp_face_mesh.FACEMESH_TESSELATION,\n",
    "                landmark_drawing_spec = None,\n",
    "                connection_drawing_spec = mp_drawing_styles\n",
    "                .get_default_face_mesh_tesselation_style()\n",
    "            )\n",
    "            \n",
    "            mp_drawing.draw_landmarks(\n",
    "                image = image,\n",
    "                landmark_list = face_landmarks,\n",
    "                connections = mp_face_mesh.FACEMESH_CONTOURS,\n",
    "                landmark_drawing_spec = None,\n",
    "                connection_drawing_spec = my_drawing_specs\n",
    "#                 .get_default_face_mesh_contours_style()\n",
    "            )\n",
    "\n",
    "\n",
    "        cv2.imshow(\"My video capture\", cv2.flip(image, 1))\n",
    "\n",
    "        if cv2.waitKey(100) & 0xFF == ord('q'):\n",
    "            break\n",
    "        \n",
    "cap.release()\n",
    "cv2.destroyAllWindows()"
   ]
  },
  {
   "cell_type": "code",
   "execution_count": null,
   "id": "1ad5e8fb",
   "metadata": {},
   "outputs": [],
   "source": []
  }
 ],
 "metadata": {
  "kernelspec": {
   "display_name": "Python 3 (ipykernel)",
   "language": "python",
   "name": "python3"
  },
  "language_info": {
   "codemirror_mode": {
    "name": "ipython",
    "version": 3
   },
   "file_extension": ".py",
   "mimetype": "text/x-python",
   "name": "python",
   "nbconvert_exporter": "python",
   "pygments_lexer": "ipython3",
   "version": "3.10.5"
  }
 },
 "nbformat": 4,
 "nbformat_minor": 5
}
